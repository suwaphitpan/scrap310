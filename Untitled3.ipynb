{
 "cells": [
  {
   "cell_type": "code",
   "execution_count": 1,
   "id": "77ca83bc-5c08-4b69-af0a-e45595843305",
   "metadata": {},
   "outputs": [],
   "source": [
    "from bs4 import BeautifulSoup\n",
    "from csv import writer\n",
    "import pandas as pd\n",
    "import requests\n",
    "import re"
   ]
  },
  {
   "cell_type": "code",
   "execution_count": 20,
   "id": "4927109f-63eb-4655-92d7-2d1220eaadae",
   "metadata": {},
   "outputs": [],
   "source": [
    "url = 'https://infocenter.git.or.th/th/category/trade-analysis'\n",
    "page = requests.get(url)"
   ]
  },
  {
   "cell_type": "code",
   "execution_count": 21,
   "id": "5ec3ca02-a190-4c7a-9534-ad052addc321",
   "metadata": {},
   "outputs": [],
   "source": [
    "soup = BeautifulSoup(page.content, 'html.parser')"
   ]
  },
  {
   "cell_type": "code",
   "execution_count": 40,
   "id": "64dd580b-4c6f-41c1-b0a6-5331984038fb",
   "metadata": {},
   "outputs": [],
   "source": [
    "results = soup.find_all('div', class_='card-body p-0')\n",
    "names = []\n",
    "contents = []"
   ]
  },
  {
   "cell_type": "code",
   "execution_count": 41,
   "id": "ed1f3f1c-5806-43a6-b7c0-04b2e5991a1c",
   "metadata": {},
   "outputs": [],
   "source": [
    "for result in results:\n",
    "    name = result.find('h2', class_=\"h5 card-title mb-0\").get_text(strip=True)\n",
    "    names.append(name)\n",
    "    content = result.find('p', class_=\"card-text\").get_text(strip=True)\n",
    "    contents.append(content)\n",
    "    "
   ]
  },
  {
   "cell_type": "code",
   "execution_count": 42,
   "id": "dca758ef-8dd2-477a-b1d4-1baf7324e386",
   "metadata": {},
   "outputs": [],
   "source": [
    "table = pd.DataFrame({'name' : names, 'content' : contents})"
   ]
  },
  {
   "cell_type": "code",
   "execution_count": 43,
   "id": "f0f53074-f09a-42c0-9e10-649ea2ff51ec",
   "metadata": {},
   "outputs": [],
   "source": [
    "table.to_csv('newss.csv')"
   ]
  },
  {
   "cell_type": "code",
   "execution_count": null,
   "id": "092740b3-117a-48c2-9ca5-9427b5c4ef1f",
   "metadata": {},
   "outputs": [],
   "source": []
  },
  {
   "cell_type": "code",
   "execution_count": null,
   "id": "f70f76e0-04d0-4bb3-ae38-29875457de3d",
   "metadata": {},
   "outputs": [],
   "source": []
  }
 ],
 "metadata": {
  "kernelspec": {
   "display_name": "Python 3 (ipykernel)",
   "language": "python",
   "name": "python3"
  },
  "language_info": {
   "codemirror_mode": {
    "name": "ipython",
    "version": 3
   },
   "file_extension": ".py",
   "mimetype": "text/x-python",
   "name": "python",
   "nbconvert_exporter": "python",
   "pygments_lexer": "ipython3",
   "version": "3.10.5"
  }
 },
 "nbformat": 4,
 "nbformat_minor": 5
}
